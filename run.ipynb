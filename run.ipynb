{
 "cells": [
  {
   "cell_type": "code",
   "execution_count": 1,
   "metadata": {},
   "outputs": [],
   "source": [
    "%matplotlib inline\n",
    "\n",
    "import os\n",
    "import logging\n",
    "from collections import defaultdict\n",
    "\n",
    "import matplotlib\n",
    "import matplotlib.pyplot as plt\n",
    "\n",
    "import parsl\n",
    "from parsl.app.app import python_app, bash_app\n",
    "\n",
    "import parslcms.sandbox\n",
    "from parslcms.app import cmssw_bash_app\n",
    "from parslcms.configs.midway_ipp import config\n",
    "\n",
    "from pnpfit.cards import prepare_cards\n",
    "from pnpfit.data.config_8d import config as pnpfit_config\n",
    "from pnpfit.workspace import make_np_workspaces\n",
    "from pnpfit.fit import fit\n",
    "#from pnpfit.plotting import NewPhysicsScaling, NLL, TwoProcessCrossSectionSMAndNP"
   ]
  },
  {
   "cell_type": "code",
   "execution_count": 2,
   "metadata": {},
   "outputs": [],
   "source": [
    "from parsl.config import Config\n",
    "config = Config()"
   ]
  },
  {
   "cell_type": "code",
   "execution_count": 3,
   "metadata": {},
   "outputs": [],
   "source": [
    "parsl.clear()\n",
    "_ = parsl.load(config)"
   ]
  },
  {
   "cell_type": "markdown",
   "metadata": {},
   "source": [
    "#### package the CMSSW user code"
   ]
  },
  {
   "cell_type": "code",
   "execution_count": 4,
   "metadata": {},
   "outputs": [],
   "source": [
    "parslcms.sandbox.setup(pnpfit_config['release'])"
   ]
  },
  {
   "cell_type": "code",
   "execution_count": 5,
   "metadata": {},
   "outputs": [],
   "source": [
    "prepare_cards(pnpfit_config)"
   ]
  },
  {
   "cell_type": "code",
   "execution_count": 4,
   "metadata": {},
   "outputs": [],
   "source": [
    "futures = defaultdict(lambda: defaultdict(lambda: defaultdict()))"
   ]
  },
  {
   "cell_type": "code",
   "execution_count": 5,
   "metadata": {},
   "outputs": [],
   "source": [
    "make_np_workspaces(futures, pnpfit_config, dimension=1)"
   ]
  },
  {
   "cell_type": "code",
   "execution_count": 6,
   "metadata": {},
   "outputs": [],
   "source": [
    "fit(futures, pnpfit_config, dimension=1, points=None, cl=None, freeze=True)"
   ]
  },
  {
   "cell_type": "code",
   "execution_count": 9,
   "metadata": {},
   "outputs": [
    {
     "data": {
      "text/plain": [
       "defaultdict(<function __main__.<lambda>()>,\n",
       "            {'workspaces': {('cuB',): <DataFuture at 0x7f5fd4c7d940 state=finished returned /home/annawoodard/pnpfit/results/workspaces/cuB.root_file>},\n",
       "             'fit result': defaultdict(<function __main__.<lambda>.<locals>.<lambda>()>,\n",
       "                         {('cuB',): <DataFuture at 0x7f5fd4c17be0 state=finished raised MissingOutputs>}),\n",
       "             'best fit': defaultdict(<function __main__.<lambda>.<locals>.<lambda>()>,\n",
       "                         {('cuB',): <DataFuture at 0x7f5fd4c17b38 state=finished raised MissingOutputs>})})"
      ]
     },
     "execution_count": 9,
     "metadata": {},
     "output_type": "execute_result"
    }
   ],
   "source": [
    "futures"
   ]
  },
  {
   "cell_type": "code",
   "execution_count": null,
   "metadata": {},
   "outputs": [],
   "source": [
    "echo('hello')"
   ]
  },
  {
   "cell_type": "code",
   "execution_count": 3,
   "metadata": {},
   "outputs": [],
   "source": [
    "@python_app\n",
    "def foo():\n",
    "    import matplotlib\n",
    "    #matplotlib.use('Agg')\n",
    "    import matplotlib.pyplot as plt\n",
    "\n",
    "    for i in range(2):\n",
    "        plt.plot([1, 2, 3, 4])\n",
    "        plt.ylabel('some numbers {}'.format(i))\n",
    "    return type(plt.gcf())\n"
   ]
  },
  {
   "cell_type": "code",
   "execution_count": 3,
   "metadata": {},
   "outputs": [],
   "source": [
    "@python_app\n",
    "def foo():\n",
    "    import matplotlib.pyplot as plt\n",
    "    fig = plt.figure()\n",
    "    l1 = lines.Line2D([0, 1], [0, 1], transform=fig.transFigure, figure=fig)\n",
    "    l2 = lines.Line2D([0, 1], [1, 0], transform=fig.transFigure, figure=fig)\n",
    "    fig.lines.extend([l1, l2])\n",
    "    \n",
    "    return fig"
   ]
  },
  {
   "cell_type": "code",
   "execution_count": 12,
   "metadata": {},
   "outputs": [
    {
     "name": "stdout",
     "output_type": "stream",
     "text": [
      "Help on Config in module parsl.config object:\n",
      "\n",
      "class Config(libsubmit.utils.RepresentationMixin)\n",
      " |  Specification of Parsl configuration options.\n",
      " |  \n",
      " |  Parameters\n",
      " |  ----------\n",
      " |  executors : list of ParslExecutor, optional\n",
      " |      List of executor instances to use. Possible executors include :class:`~parsl.executors.threads.ThreadPoolExecutor`,\n",
      " |      :class:`~parsl.executors.ipp.IPyParallelExecutor`, or :class:`~parsl.executors.swift_t.TurbineExecutor`. Default\n",
      " |      is [:class:`~parsl.executors.threads.ThreadPoolExecutor()`].\n",
      " |  app_cache : bool, optional\n",
      " |      Enable app caching. Default is True.\n",
      " |  checkpoint_files : list of str, optional\n",
      " |      List of paths to checkpoint files. Default is None.\n",
      " |  checkpoint_mode : str, optional\n",
      " |      Checkpoint mode to use, can be 'dfk_exit', 'task_exit', or 'periodic'. If set to\n",
      " |      `None`, checkpointing will be disabled. Default is None.\n",
      " |  checkpoint_period : str, optional\n",
      " |      Time interval (in \"HH:MM:SS\") at which to checkpoint completed tasks. Only has an effect if\n",
      " |      `checkpoint_mode='periodic'`.\n",
      " |  data_management_max_threads : int, optional\n",
      " |      Maximum number of threads to allocate for the data manager to use for managing input and output transfers.\n",
      " |      Default is 10.\n",
      " |  lazy_errors : bool, optional\n",
      " |      If True, errors from task failures will not be raised until `future.result()` is called. Otherwise, they will\n",
      " |      be raised as soon as the task returns. Default is True.\n",
      " |  retries : int, optional\n",
      " |      Set the number of retries in case of failure. Default is 0.\n",
      " |  run_dir : str, optional\n",
      " |      Path to run directory. Default is 'runinfo'.\n",
      " |  strategy : str, optional\n",
      " |      Strategy to use for scaling resources according to workflow needs. Can be 'simple' or `None`. If `None`, dynamic\n",
      " |      scaling will be disabled. Default is 'simple'.\n",
      " |  usage_tracking : bool, optional\n",
      " |      Enable usage tracking. Default is True.\n",
      " |  \n",
      " |  Method resolution order:\n",
      " |      Config\n",
      " |      libsubmit.utils.RepresentationMixin\n",
      " |      builtins.object\n",
      " |  \n",
      " |  Methods defined here:\n",
      " |  \n",
      " |  __init__(self, executors=None, app_cache=True, checkpoint_files=None, checkpoint_mode=None, checkpoint_period='00:30:00', data_management_max_threads=10, lazy_errors=True, retries=0, run_dir='runinfo', strategy='simple', usage_tracking=True)\n",
      " |      Initialize self.  See help(type(self)) for accurate signature.\n",
      " |  \n",
      " |  ----------------------------------------------------------------------\n",
      " |  Data descriptors defined here:\n",
      " |  \n",
      " |  executors\n",
      " |  \n",
      " |  ----------------------------------------------------------------------\n",
      " |  Methods inherited from libsubmit.utils.RepresentationMixin:\n",
      " |  \n",
      " |  __repr__(self)\n",
      " |      Return repr(self).\n",
      " |  \n",
      " |  ----------------------------------------------------------------------\n",
      " |  Data descriptors inherited from libsubmit.utils.RepresentationMixin:\n",
      " |  \n",
      " |  __dict__\n",
      " |      dictionary for instance variables (if defined)\n",
      " |  \n",
      " |  __weakref__\n",
      " |      list of weak references to the object (if defined)\n",
      " |  \n",
      " |  ----------------------------------------------------------------------\n",
      " |  Data and other attributes inherited from libsubmit.utils.RepresentationMixin:\n",
      " |  \n",
      " |  __max_width__ = 80\n",
      "\n"
     ]
    }
   ],
   "source": [
    "\n",
    "help(config)"
   ]
  },
  {
   "cell_type": "code",
   "execution_count": 9,
   "metadata": {},
   "outputs": [],
   "source": [
    "plt.show(f)"
   ]
  },
  {
   "cell_type": "code",
   "execution_count": 10,
   "metadata": {},
   "outputs": [
    {
     "name": "stdout",
     "output_type": "stream",
     "text": [
      "Help on class ThreadPoolExecutor in module parsl.executors.threads:\n",
      "\n",
      "class ThreadPoolExecutor(parsl.executors.base.ParslExecutor, libsubmit.utils.RepresentationMixin)\n",
      " |  A thread-based executor.\n",
      " |  \n",
      " |  Parameters\n",
      " |  ----------\n",
      " |  max_threads : int\n",
      " |      Number of threads. Default is 2.\n",
      " |  thread_name_prefix : string\n",
      " |      Thread name prefix (only supported in python v3.6+).\n",
      " |  storage_access : list of :class:`~parsl.data_provider.scheme.Scheme`\n",
      " |      Specifications for accessing data this executor remotely. Multiple `Scheme`s are not yet supported.\n",
      " |  managed : bool\n",
      " |      If True, parsl will control dynamic scaling of this executor, and be responsible. Otherwise,\n",
      " |      this is managed by the user.\n",
      " |  \n",
      " |  Method resolution order:\n",
      " |      ThreadPoolExecutor\n",
      " |      parsl.executors.base.ParslExecutor\n",
      " |      libsubmit.utils.RepresentationMixin\n",
      " |      builtins.object\n",
      " |  \n",
      " |  Methods defined here:\n",
      " |  \n",
      " |  __init__(self, label='threads', max_threads=2, thread_name_prefix='', storage_access=None, working_dir=None, managed=True)\n",
      " |      Initialize self.  See help(type(self)) for accurate signature.\n",
      " |  \n",
      " |  scale_in(self, workers=1)\n",
      " |      Scale in the number of active workers by 1.\n",
      " |      \n",
      " |      This method is notImplemented for threads and will raise the error if called.\n",
      " |      \n",
      " |      Raises:\n",
      " |           NotImplemented exception\n",
      " |  \n",
      " |  scale_out(self, workers=1)\n",
      " |      Scales out the number of active workers by 1.\n",
      " |      \n",
      " |      This method is notImplemented for threads and will raise the error if called.\n",
      " |      \n",
      " |      Raises:\n",
      " |           NotImplemented exception\n",
      " |  \n",
      " |  shutdown(self, block=False)\n",
      " |      Shutdown the ThreadPool.\n",
      " |      \n",
      " |      Kwargs:\n",
      " |          - block (Bool): To block for confirmations or not\n",
      " |  \n",
      " |  start(self)\n",
      " |      Start the executor.\n",
      " |      \n",
      " |      Any spin-up operations (for example: starting thread pools) should be performed here.\n",
      " |  \n",
      " |  submit(self, *args, **kwargs)\n",
      " |      Submits work to the thread pool.\n",
      " |      \n",
      " |      This method is simply pass through and behaves like a submit call as described\n",
      " |      here `Python docs: <https://docs.python.org/3/library/concurrent.futures.html#concurrent.futures.ThreadPoolExecutor>`_\n",
      " |  \n",
      " |  ----------------------------------------------------------------------\n",
      " |  Data descriptors defined here:\n",
      " |  \n",
      " |  scaling_enabled\n",
      " |      Specify if scaling is enabled.\n",
      " |      \n",
      " |      The callers of ParslExecutors need to differentiate between Executors\n",
      " |      and Executors wrapped in a resource provider\n",
      " |  \n",
      " |  ----------------------------------------------------------------------\n",
      " |  Data and other attributes defined here:\n",
      " |  \n",
      " |  __abstractmethods__ = frozenset()\n",
      " |  \n",
      " |  ----------------------------------------------------------------------\n",
      " |  Data descriptors inherited from parsl.executors.base.ParslExecutor:\n",
      " |  \n",
      " |  __dict__\n",
      " |      dictionary for instance variables (if defined)\n",
      " |  \n",
      " |  __weakref__\n",
      " |      list of weak references to the object (if defined)\n",
      " |  \n",
      " |  ----------------------------------------------------------------------\n",
      " |  Methods inherited from libsubmit.utils.RepresentationMixin:\n",
      " |  \n",
      " |  __repr__(self)\n",
      " |      Return repr(self).\n",
      " |  \n",
      " |  ----------------------------------------------------------------------\n",
      " |  Data and other attributes inherited from libsubmit.utils.RepresentationMixin:\n",
      " |  \n",
      " |  __max_width__ = 80\n",
      "\n"
     ]
    }
   ],
   "source": [
    "from parsl.executors.threads import ThreadPoolExecutor\n",
    "help(ThreadPoolExecutor)"
   ]
  },
  {
   "cell_type": "code",
   "execution_count": null,
   "metadata": {},
   "outputs": [],
   "source": []
  }
 ],
 "metadata": {
  "kernelspec": {
   "display_name": "Python [conda env:parsl_py36]",
   "language": "python",
   "name": "conda-env-parsl_py36-py"
  },
  "language_info": {
   "codemirror_mode": {
    "name": "ipython",
    "version": 3
   },
   "file_extension": ".py",
   "mimetype": "text/x-python",
   "name": "python",
   "nbconvert_exporter": "python",
   "pygments_lexer": "ipython3",
   "version": "3.6.5"
  }
 },
 "nbformat": 4,
 "nbformat_minor": 2
}
